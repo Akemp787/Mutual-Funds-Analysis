{
 "cells": [
  {
   "cell_type": "code",
   "execution_count": null,
   "metadata": {},
   "outputs": [],
   "source": [
    "from zipfile import ZipFile\n",
    "zip = ZipFile('Resources/archive.zip')\n",
    "zip.extractall('Resources')"
   ]
  },
  {
   "cell_type": "code",
   "execution_count": null,
   "metadata": {},
   "outputs": [],
   "source": [
    "import pandas as pd\n",
    "import hvplot.pandas\n",
    "from pathlib import Path\n",
    "from sklearn.cluster import KMeans\n",
    "from sklearn.preprocessing import StandardScaler"
   ]
  },
  {
   "cell_type": "code",
   "execution_count": null,
   "metadata": {},
   "outputs": [],
   "source": [
    "#Display all the columns (to see which to drop)\n",
    "pd.set_option(\"display.max_columns\", None)"
   ]
  },
  {
   "cell_type": "markdown",
   "metadata": {},
   "source": [
    "## Read In CSV data for Mutual Fund prices A-Z\n"
   ]
  },
  {
   "cell_type": "code",
   "execution_count": null,
   "metadata": {},
   "outputs": [],
   "source": [
    "#Read in CSV data \n",
    "#MutualFund prices A-E\n",
    "df_AE= pd.read_csv(\n",
    "    Path(\"Resources/MutualFund Prices - A-E.csv\")\n",
    ")\n",
    "df_AE.head()"
   ]
  },
  {
   "cell_type": "code",
   "execution_count": null,
   "metadata": {},
   "outputs": [],
   "source": [
    "#Read in CSV data \n",
    "#MutualFund prices F-K\n",
    "df_FK= pd.read_csv(\n",
    "    Path(\"Resources/MutualFund Prices - F-K.csv\")\n",
    ")\n",
    "df_FK.head()"
   ]
  },
  {
   "cell_type": "code",
   "execution_count": null,
   "metadata": {},
   "outputs": [],
   "source": [
    "#Read in CSV data \n",
    "#MutualFund prices L-P\n",
    "df_LP= pd.read_csv(\n",
    "    Path(\"Resources/MutualFund Prices - L-P.csv\")\n",
    ")\n",
    "df_LP.head()"
   ]
  },
  {
   "cell_type": "code",
   "execution_count": null,
   "metadata": {},
   "outputs": [],
   "source": [
    "#Read in CSV data \n",
    "#MutualFund prices Q-Z\n",
    "df_QZ= pd.read_csv(\n",
    "    Path(\"Resources/MutualFund Prices - Q-Z.csv\")\n",
    ")\n",
    "df_QZ.head()"
   ]
  },
  {
   "cell_type": "code",
   "execution_count": null,
   "metadata": {},
   "outputs": [],
   "source": [
    "#Concatonate dataframes\n",
    "mutual_fund_df= pd.concat([df_AE,df_FK,df_LP,df_QZ])\n",
    "mutual_fund_df.shape "
   ]
  },
  {
   "cell_type": "code",
   "execution_count": null,
   "metadata": {},
   "outputs": [],
   "source": [
    "mutual_fund_df.dtypes"
   ]
  },
  {
   "cell_type": "code",
   "execution_count": null,
   "metadata": {},
   "outputs": [],
   "source": [
    "mutual_fund_df[\"price_date\"]=pd.to_datetime(mutual_fund_df['price_date'])"
   ]
  },
  {
   "cell_type": "code",
   "execution_count": null,
   "metadata": {},
   "outputs": [],
   "source": [
    "mutual_fund_df.dtypes"
   ]
  },
  {
   "cell_type": "markdown",
   "metadata": {},
   "source": [
    "# Read in Mutual Fund informaiton csv\n"
   ]
  },
  {
   "cell_type": "code",
   "execution_count": null,
   "metadata": {},
   "outputs": [],
   "source": [
    "#Read in CSV data \n",
    "#MutualFunds\n",
    "mutualFunds= pd.read_csv(\n",
    "    Path(\"Resources/MutualFunds.csv\")\n",
    ")\n",
    "mutualFunds.head()"
   ]
  },
  {
   "cell_type": "code",
   "execution_count": null,
   "metadata": {},
   "outputs": [],
   "source": [
    "# Find columns with only 1 value to drop\n",
    "mutualFunds.loc[: , mutualFunds.dtypes== \"object\"].nunique()"
   ]
  },
  {
   "cell_type": "code",
   "execution_count": null,
   "metadata": {},
   "outputs": [],
   "source": [
    "mutualFunds_counts= mutualFunds.loc[: ,mutualFunds.dtypes==\"object\"].nunique()\n",
    "mutualFunds_counts_one= mutualFunds_counts[mutualFunds_counts == 1].index.to_list()\n",
    "print(mutualFunds_counts_one)"
   ]
  },
  {
   "cell_type": "code",
   "execution_count": null,
   "metadata": {},
   "outputs": [],
   "source": [
    "#Drop columns with only 1 unique value\n",
    "mutualFunds.drop(columns=mutualFunds_counts_one,inplace=True)\n",
    "mutualFunds"
   ]
  },
  {
   "cell_type": "markdown",
   "metadata": {},
   "source": [
    "### _We noticed that there are many `NaN` values throughout the data set. We will now explore which columns/rows have NaN and will remove an appropriate amount of columns/rows._"
   ]
  },
  {
   "cell_type": "code",
   "execution_count": null,
   "metadata": {},
   "outputs": [],
   "source": [
    "mutualFunds.dropna(axis = 0)"
   ]
  },
  {
   "cell_type": "markdown",
   "metadata": {},
   "source": [
    "If we drop rows that have an `NaN`, then all data is removed. Instead, let's look at the columns that have missing data."
   ]
  },
  {
   "cell_type": "code",
   "execution_count": null,
   "metadata": {},
   "outputs": [],
   "source": [
    "# Looking at each column and the count of NaN in each column\n",
    "list = []\n",
    "for index, row in pd.DataFrame(mutualFunds.isna().sum()).iterrows():\n",
    "    list.append((index,row))\n"
   ]
  },
  {
   "cell_type": "code",
   "execution_count": null,
   "metadata": {},
   "outputs": [],
   "source": [
    "list[0]"
   ]
  },
  {
   "cell_type": "markdown",
   "metadata": {},
   "source": [
    "We plan to find the number of columns that have above a certain percentage of `NaN` and then remove those columns. We have chosen 60% so far."
   ]
  },
  {
   "cell_type": "code",
   "execution_count": null,
   "metadata": {},
   "outputs": [],
   "source": [
    "threshold = 0.6*len(mutualFunds)\n",
    "drop_columns = []\n",
    "for i in range(len(list)):\n",
    "    if list[i][1][0] >= threshold:\n",
    "        drop_columns.append(list[i][0])"
   ]
  },
  {
   "cell_type": "code",
   "execution_count": null,
   "metadata": {},
   "outputs": [],
   "source": [
    "print(len(drop_columns))\n",
    "drop_columns\n"
   ]
  },
  {
   "cell_type": "code",
   "execution_count": null,
   "metadata": {},
   "outputs": [],
   "source": [
    "mutualFunds.drop(columns=drop_columns, inplace = True)\n",
    "mutualFunds"
   ]
  },
  {
   "cell_type": "code",
   "execution_count": null,
   "metadata": {},
   "outputs": [],
   "source": [
    "mutualFunds.dropna()"
   ]
  },
  {
   "cell_type": "code",
   "execution_count": null,
   "metadata": {},
   "outputs": [],
   "source": []
  }
 ],
 "metadata": {
  "kernelspec": {
   "display_name": "dev",
   "language": "python",
   "name": "python3"
  },
  "language_info": {
   "codemirror_mode": {
    "name": "ipython",
    "version": 3
   },
   "file_extension": ".py",
   "mimetype": "text/x-python",
   "name": "python",
   "nbconvert_exporter": "python",
   "pygments_lexer": "ipython3",
   "version": "3.10.13"
  }
 },
 "nbformat": 4,
 "nbformat_minor": 2
}
