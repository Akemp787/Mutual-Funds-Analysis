{
 "cells": [
  {
   "cell_type": "code",
   "execution_count": 1,
   "metadata": {},
   "outputs": [],
   "source": [
    "from zipfile import ZipFile\n",
    "zip = ZipFile('Resources/archive.zip')\n",
    "zip.extractall('Resources')"
   ]
  },
  {
   "cell_type": "code",
   "execution_count": 2,
   "metadata": {},
   "outputs": [
    {
     "data": {
      "application/javascript": "(function(root) {\n  function now() {\n    return new Date();\n  }\n\n  var force = true;\n  var py_version = '3.4.0'.replace('rc', '-rc.').replace('.dev', '-dev.');\n  var reloading = false;\n  var Bokeh = root.Bokeh;\n\n  if (typeof (root._bokeh_timeout) === \"undefined\" || force) {\n    root._bokeh_timeout = Date.now() + 5000;\n    root._bokeh_failed_load = false;\n  }\n\n  function run_callbacks() {\n    try {\n      root._bokeh_onload_callbacks.forEach(function(callback) {\n        if (callback != null)\n          callback();\n      });\n    } finally {\n      delete root._bokeh_onload_callbacks;\n    }\n    console.debug(\"Bokeh: all callbacks have finished\");\n  }\n\n  function load_libs(css_urls, js_urls, js_modules, js_exports, callback) {\n    if (css_urls == null) css_urls = [];\n    if (js_urls == null) js_urls = [];\n    if (js_modules == null) js_modules = [];\n    if (js_exports == null) js_exports = {};\n\n    root._bokeh_onload_callbacks.push(callback);\n\n    if (root._bokeh_is_loading > 0) {\n      console.debug(\"Bokeh: BokehJS is being loaded, scheduling callback at\", now());\n      return null;\n    }\n    if (js_urls.length === 0 && js_modules.length === 0 && Object.keys(js_exports).length === 0) {\n      run_callbacks();\n      return null;\n    }\n    if (!reloading) {\n      console.debug(\"Bokeh: BokehJS not loaded, scheduling load and callback at\", now());\n    }\n\n    function on_load() {\n      root._bokeh_is_loading--;\n      if (root._bokeh_is_loading === 0) {\n        console.debug(\"Bokeh: all BokehJS libraries/stylesheets loaded\");\n        run_callbacks()\n      }\n    }\n    window._bokeh_on_load = on_load\n\n    function on_error() {\n      console.error(\"failed to load \" + url);\n    }\n\n    var skip = [];\n    if (window.requirejs) {\n      window.requirejs.config({'packages': {}, 'paths': {}, 'shim': {}});\n      root._bokeh_is_loading = css_urls.length + 0;\n    } else {\n      root._bokeh_is_loading = css_urls.length + js_urls.length + js_modules.length + Object.keys(js_exports).length;\n    }\n\n    var existing_stylesheets = []\n    var links = document.getElementsByTagName('link')\n    for (var i = 0; i < links.length; i++) {\n      var link = links[i]\n      if (link.href != null) {\n\texisting_stylesheets.push(link.href)\n      }\n    }\n    for (var i = 0; i < css_urls.length; i++) {\n      var url = css_urls[i];\n      if (existing_stylesheets.indexOf(url) !== -1) {\n\ton_load()\n\tcontinue;\n      }\n      const element = document.createElement(\"link\");\n      element.onload = on_load;\n      element.onerror = on_error;\n      element.rel = \"stylesheet\";\n      element.type = \"text/css\";\n      element.href = url;\n      console.debug(\"Bokeh: injecting link tag for BokehJS stylesheet: \", url);\n      document.body.appendChild(element);\n    }    var existing_scripts = []\n    var scripts = document.getElementsByTagName('script')\n    for (var i = 0; i < scripts.length; i++) {\n      var script = scripts[i]\n      if (script.src != null) {\n\texisting_scripts.push(script.src)\n      }\n    }\n    for (var i = 0; i < js_urls.length; i++) {\n      var url = js_urls[i];\n      if (skip.indexOf(url) !== -1 || existing_scripts.indexOf(url) !== -1) {\n\tif (!window.requirejs) {\n\t  on_load();\n\t}\n\tcontinue;\n      }\n      var element = document.createElement('script');\n      element.onload = on_load;\n      element.onerror = on_error;\n      element.async = false;\n      element.src = url;\n      console.debug(\"Bokeh: injecting script tag for BokehJS library: \", url);\n      document.head.appendChild(element);\n    }\n    for (var i = 0; i < js_modules.length; i++) {\n      var url = js_modules[i];\n      if (skip.indexOf(url) !== -1 || existing_scripts.indexOf(url) !== -1) {\n\tif (!window.requirejs) {\n\t  on_load();\n\t}\n\tcontinue;\n      }\n      var element = document.createElement('script');\n      element.onload = on_load;\n      element.onerror = on_error;\n      element.async = false;\n      element.src = url;\n      element.type = \"module\";\n      console.debug(\"Bokeh: injecting script tag for BokehJS library: \", url);\n      document.head.appendChild(element);\n    }\n    for (const name in js_exports) {\n      var url = js_exports[name];\n      if (skip.indexOf(url) >= 0 || root[name] != null) {\n\tif (!window.requirejs) {\n\t  on_load();\n\t}\n\tcontinue;\n      }\n      var element = document.createElement('script');\n      element.onerror = on_error;\n      element.async = false;\n      element.type = \"module\";\n      console.debug(\"Bokeh: injecting script tag for BokehJS library: \", url);\n      element.textContent = `\n      import ${name} from \"${url}\"\n      window.${name} = ${name}\n      window._bokeh_on_load()\n      `\n      document.head.appendChild(element);\n    }\n    if (!js_urls.length && !js_modules.length) {\n      on_load()\n    }\n  };\n\n  function inject_raw_css(css) {\n    const element = document.createElement(\"style\");\n    element.appendChild(document.createTextNode(css));\n    document.body.appendChild(element);\n  }\n\n  var js_urls = [\"https://cdn.bokeh.org/bokeh/release/bokeh-3.4.0.min.js\", \"https://cdn.bokeh.org/bokeh/release/bokeh-gl-3.4.0.min.js\", \"https://cdn.bokeh.org/bokeh/release/bokeh-widgets-3.4.0.min.js\", \"https://cdn.bokeh.org/bokeh/release/bokeh-tables-3.4.0.min.js\", \"https://cdn.holoviz.org/panel/1.4.1/dist/panel.min.js\"];\n  var js_modules = [];\n  var js_exports = {};\n  var css_urls = [];\n  var inline_js = [    function(Bokeh) {\n      Bokeh.set_log_level(\"info\");\n    },\nfunction(Bokeh) {} // ensure no trailing comma for IE\n  ];\n\n  function run_inline_js() {\n    if ((root.Bokeh !== undefined) || (force === true)) {\n      for (var i = 0; i < inline_js.length; i++) {\n\ttry {\n          inline_js[i].call(root, root.Bokeh);\n\t} catch(e) {\n\t  if (!reloading) {\n\t    throw e;\n\t  }\n\t}\n      }\n      // Cache old bokeh versions\n      if (Bokeh != undefined && !reloading) {\n\tvar NewBokeh = root.Bokeh;\n\tif (Bokeh.versions === undefined) {\n\t  Bokeh.versions = new Map();\n\t}\n\tif (NewBokeh.version !== Bokeh.version) {\n\t  Bokeh.versions.set(NewBokeh.version, NewBokeh)\n\t}\n\troot.Bokeh = Bokeh;\n      }} else if (Date.now() < root._bokeh_timeout) {\n      setTimeout(run_inline_js, 100);\n    } else if (!root._bokeh_failed_load) {\n      console.log(\"Bokeh: BokehJS failed to load within specified timeout.\");\n      root._bokeh_failed_load = true;\n    }\n    root._bokeh_is_initializing = false\n  }\n\n  function load_or_wait() {\n    // Implement a backoff loop that tries to ensure we do not load multiple\n    // versions of Bokeh and its dependencies at the same time.\n    // In recent versions we use the root._bokeh_is_initializing flag\n    // to determine whether there is an ongoing attempt to initialize\n    // bokeh, however for backward compatibility we also try to ensure\n    // that we do not start loading a newer (Panel>=1.0 and Bokeh>3) version\n    // before older versions are fully initialized.\n    if (root._bokeh_is_initializing && Date.now() > root._bokeh_timeout) {\n      root._bokeh_is_initializing = false;\n      root._bokeh_onload_callbacks = undefined;\n      console.log(\"Bokeh: BokehJS was loaded multiple times but one version failed to initialize.\");\n      load_or_wait();\n    } else if (root._bokeh_is_initializing || (typeof root._bokeh_is_initializing === \"undefined\" && root._bokeh_onload_callbacks !== undefined)) {\n      setTimeout(load_or_wait, 100);\n    } else {\n      root._bokeh_is_initializing = true\n      root._bokeh_onload_callbacks = []\n      var bokeh_loaded = Bokeh != null && (Bokeh.version === py_version || (Bokeh.versions !== undefined && Bokeh.versions.has(py_version)));\n      if (!reloading && !bokeh_loaded) {\n\troot.Bokeh = undefined;\n      }\n      load_libs(css_urls, js_urls, js_modules, js_exports, function() {\n\tconsole.debug(\"Bokeh: BokehJS plotting callback run at\", now());\n\trun_inline_js();\n      });\n    }\n  }\n  // Give older versions of the autoload script a head-start to ensure\n  // they initialize before we start loading newer version.\n  setTimeout(load_or_wait, 100)\n}(window));",
      "application/vnd.holoviews_load.v0+json": ""
     },
     "metadata": {},
     "output_type": "display_data"
    },
    {
     "data": {
      "application/javascript": "\nif ((window.PyViz === undefined) || (window.PyViz instanceof HTMLElement)) {\n  window.PyViz = {comms: {}, comm_status:{}, kernels:{}, receivers: {}, plot_index: []}\n}\n\n\n    function JupyterCommManager() {\n    }\n\n    JupyterCommManager.prototype.register_target = function(plot_id, comm_id, msg_handler) {\n      if (window.comm_manager || ((window.Jupyter !== undefined) && (Jupyter.notebook.kernel != null))) {\n        var comm_manager = window.comm_manager || Jupyter.notebook.kernel.comm_manager;\n        comm_manager.register_target(comm_id, function(comm) {\n          comm.on_msg(msg_handler);\n        });\n      } else if ((plot_id in window.PyViz.kernels) && (window.PyViz.kernels[plot_id])) {\n        window.PyViz.kernels[plot_id].registerCommTarget(comm_id, function(comm) {\n          comm.onMsg = msg_handler;\n        });\n      } else if (typeof google != 'undefined' && google.colab.kernel != null) {\n        google.colab.kernel.comms.registerTarget(comm_id, (comm) => {\n          var messages = comm.messages[Symbol.asyncIterator]();\n          function processIteratorResult(result) {\n            var message = result.value;\n            console.log(message)\n            var content = {data: message.data, comm_id};\n            var buffers = []\n            for (var buffer of message.buffers || []) {\n              buffers.push(new DataView(buffer))\n            }\n            var metadata = message.metadata || {};\n            var msg = {content, buffers, metadata}\n            msg_handler(msg);\n            return messages.next().then(processIteratorResult);\n          }\n          return messages.next().then(processIteratorResult);\n        })\n      }\n    }\n\n    JupyterCommManager.prototype.get_client_comm = function(plot_id, comm_id, msg_handler) {\n      if (comm_id in window.PyViz.comms) {\n        return window.PyViz.comms[comm_id];\n      } else if (window.comm_manager || ((window.Jupyter !== undefined) && (Jupyter.notebook.kernel != null))) {\n        var comm_manager = window.comm_manager || Jupyter.notebook.kernel.comm_manager;\n        var comm = comm_manager.new_comm(comm_id, {}, {}, {}, comm_id);\n        if (msg_handler) {\n          comm.on_msg(msg_handler);\n        }\n      } else if ((plot_id in window.PyViz.kernels) && (window.PyViz.kernels[plot_id])) {\n        var comm = window.PyViz.kernels[plot_id].connectToComm(comm_id);\n        comm.open();\n        if (msg_handler) {\n          comm.onMsg = msg_handler;\n        }\n      } else if (typeof google != 'undefined' && google.colab.kernel != null) {\n        var comm_promise = google.colab.kernel.comms.open(comm_id)\n        comm_promise.then((comm) => {\n          window.PyViz.comms[comm_id] = comm;\n          if (msg_handler) {\n            var messages = comm.messages[Symbol.asyncIterator]();\n            function processIteratorResult(result) {\n              var message = result.value;\n              var content = {data: message.data};\n              var metadata = message.metadata || {comm_id};\n              var msg = {content, metadata}\n              msg_handler(msg);\n              return messages.next().then(processIteratorResult);\n            }\n            return messages.next().then(processIteratorResult);\n          }\n        }) \n        var sendClosure = (data, metadata, buffers, disposeOnDone) => {\n          return comm_promise.then((comm) => {\n            comm.send(data, metadata, buffers, disposeOnDone);\n          });\n        };\n        var comm = {\n          send: sendClosure\n        };\n      }\n      window.PyViz.comms[comm_id] = comm;\n      return comm;\n    }\n    window.PyViz.comm_manager = new JupyterCommManager();\n    \n\n\nvar JS_MIME_TYPE = 'application/javascript';\nvar HTML_MIME_TYPE = 'text/html';\nvar EXEC_MIME_TYPE = 'application/vnd.holoviews_exec.v0+json';\nvar CLASS_NAME = 'output';\n\n/**\n * Render data to the DOM node\n */\nfunction render(props, node) {\n  var div = document.createElement(\"div\");\n  var script = document.createElement(\"script\");\n  node.appendChild(div);\n  node.appendChild(script);\n}\n\n/**\n * Handle when a new output is added\n */\nfunction handle_add_output(event, handle) {\n  var output_area = handle.output_area;\n  var output = handle.output;\n  if ((output.data == undefined) || (!output.data.hasOwnProperty(EXEC_MIME_TYPE))) {\n    return\n  }\n  var id = output.metadata[EXEC_MIME_TYPE][\"id\"];\n  var toinsert = output_area.element.find(\".\" + CLASS_NAME.split(' ')[0]);\n  if (id !== undefined) {\n    var nchildren = toinsert.length;\n    var html_node = toinsert[nchildren-1].children[0];\n    html_node.innerHTML = output.data[HTML_MIME_TYPE];\n    var scripts = [];\n    var nodelist = html_node.querySelectorAll(\"script\");\n    for (var i in nodelist) {\n      if (nodelist.hasOwnProperty(i)) {\n        scripts.push(nodelist[i])\n      }\n    }\n\n    scripts.forEach( function (oldScript) {\n      var newScript = document.createElement(\"script\");\n      var attrs = [];\n      var nodemap = oldScript.attributes;\n      for (var j in nodemap) {\n        if (nodemap.hasOwnProperty(j)) {\n          attrs.push(nodemap[j])\n        }\n      }\n      attrs.forEach(function(attr) { newScript.setAttribute(attr.name, attr.value) });\n      newScript.appendChild(document.createTextNode(oldScript.innerHTML));\n      oldScript.parentNode.replaceChild(newScript, oldScript);\n    });\n    if (JS_MIME_TYPE in output.data) {\n      toinsert[nchildren-1].children[1].textContent = output.data[JS_MIME_TYPE];\n    }\n    output_area._hv_plot_id = id;\n    if ((window.Bokeh !== undefined) && (id in Bokeh.index)) {\n      window.PyViz.plot_index[id] = Bokeh.index[id];\n    } else {\n      window.PyViz.plot_index[id] = null;\n    }\n  } else if (output.metadata[EXEC_MIME_TYPE][\"server_id\"] !== undefined) {\n    var bk_div = document.createElement(\"div\");\n    bk_div.innerHTML = output.data[HTML_MIME_TYPE];\n    var script_attrs = bk_div.children[0].attributes;\n    for (var i = 0; i < script_attrs.length; i++) {\n      toinsert[toinsert.length - 1].childNodes[1].setAttribute(script_attrs[i].name, script_attrs[i].value);\n    }\n    // store reference to server id on output_area\n    output_area._bokeh_server_id = output.metadata[EXEC_MIME_TYPE][\"server_id\"];\n  }\n}\n\n/**\n * Handle when an output is cleared or removed\n */\nfunction handle_clear_output(event, handle) {\n  var id = handle.cell.output_area._hv_plot_id;\n  var server_id = handle.cell.output_area._bokeh_server_id;\n  if (((id === undefined) || !(id in PyViz.plot_index)) && (server_id !== undefined)) { return; }\n  var comm = window.PyViz.comm_manager.get_client_comm(\"hv-extension-comm\", \"hv-extension-comm\", function () {});\n  if (server_id !== null) {\n    comm.send({event_type: 'server_delete', 'id': server_id});\n    return;\n  } else if (comm !== null) {\n    comm.send({event_type: 'delete', 'id': id});\n  }\n  delete PyViz.plot_index[id];\n  if ((window.Bokeh !== undefined) & (id in window.Bokeh.index)) {\n    var doc = window.Bokeh.index[id].model.document\n    doc.clear();\n    const i = window.Bokeh.documents.indexOf(doc);\n    if (i > -1) {\n      window.Bokeh.documents.splice(i, 1);\n    }\n  }\n}\n\n/**\n * Handle kernel restart event\n */\nfunction handle_kernel_cleanup(event, handle) {\n  delete PyViz.comms[\"hv-extension-comm\"];\n  window.PyViz.plot_index = {}\n}\n\n/**\n * Handle update_display_data messages\n */\nfunction handle_update_output(event, handle) {\n  handle_clear_output(event, {cell: {output_area: handle.output_area}})\n  handle_add_output(event, handle)\n}\n\nfunction register_renderer(events, OutputArea) {\n  function append_mime(data, metadata, element) {\n    // create a DOM node to render to\n    var toinsert = this.create_output_subarea(\n    metadata,\n    CLASS_NAME,\n    EXEC_MIME_TYPE\n    );\n    this.keyboard_manager.register_events(toinsert);\n    // Render to node\n    var props = {data: data, metadata: metadata[EXEC_MIME_TYPE]};\n    render(props, toinsert[0]);\n    element.append(toinsert);\n    return toinsert\n  }\n\n  events.on('output_added.OutputArea', handle_add_output);\n  events.on('output_updated.OutputArea', handle_update_output);\n  events.on('clear_output.CodeCell', handle_clear_output);\n  events.on('delete.Cell', handle_clear_output);\n  events.on('kernel_ready.Kernel', handle_kernel_cleanup);\n\n  OutputArea.prototype.register_mime_type(EXEC_MIME_TYPE, append_mime, {\n    safe: true,\n    index: 0\n  });\n}\n\nif (window.Jupyter !== undefined) {\n  try {\n    var events = require('base/js/events');\n    var OutputArea = require('notebook/js/outputarea').OutputArea;\n    if (OutputArea.prototype.mime_types().indexOf(EXEC_MIME_TYPE) == -1) {\n      register_renderer(events, OutputArea);\n    }\n  } catch(err) {\n  }\n}\n",
      "application/vnd.holoviews_load.v0+json": ""
     },
     "metadata": {},
     "output_type": "display_data"
    },
    {
     "data": {
      "text/html": [
       "<style>*[data-root-id],\n",
       "*[data-root-id] > * {\n",
       "  box-sizing: border-box;\n",
       "  font-family: var(--jp-ui-font-family);\n",
       "  font-size: var(--jp-ui-font-size1);\n",
       "  color: var(--vscode-editor-foreground, var(--jp-ui-font-color1));\n",
       "}\n",
       "\n",
       "/* Override VSCode background color */\n",
       ".cell-output-ipywidget-background:has(\n",
       "    > .cell-output-ipywidget-background > .lm-Widget > *[data-root-id]\n",
       "  ),\n",
       ".cell-output-ipywidget-background:has(> .lm-Widget > *[data-root-id]) {\n",
       "  background-color: transparent !important;\n",
       "}\n",
       "</style>"
      ]
     },
     "metadata": {},
     "output_type": "display_data"
    },
    {
     "data": {
      "application/vnd.holoviews_exec.v0+json": "",
      "text/html": [
       "<div id='p1002'>\n",
       "  <div id=\"c5150da0-e819-4dff-98d9-52dc6784410e\" data-root-id=\"p1002\" style=\"display: contents;\"></div>\n",
       "</div>\n",
       "<script type=\"application/javascript\">(function(root) {\n",
       "  var docs_json = {\"ee4a0bb2-6998-4aeb-9f34-88c0e6b29161\":{\"version\":\"3.4.0\",\"title\":\"Bokeh Application\",\"roots\":[{\"type\":\"object\",\"name\":\"panel.models.browser.BrowserInfo\",\"id\":\"p1002\"},{\"type\":\"object\",\"name\":\"panel.models.comm_manager.CommManager\",\"id\":\"p1003\",\"attributes\":{\"plot_id\":\"p1002\",\"comm_id\":\"659d2caf458f420ab69c59b72c820659\",\"client_comm_id\":\"b11f3cb134db4749881557e1f32c236b\"}}],\"defs\":[{\"type\":\"model\",\"name\":\"ReactiveHTML1\"},{\"type\":\"model\",\"name\":\"FlexBox1\",\"properties\":[{\"name\":\"align_content\",\"kind\":\"Any\",\"default\":\"flex-start\"},{\"name\":\"align_items\",\"kind\":\"Any\",\"default\":\"flex-start\"},{\"name\":\"flex_direction\",\"kind\":\"Any\",\"default\":\"row\"},{\"name\":\"flex_wrap\",\"kind\":\"Any\",\"default\":\"wrap\"},{\"name\":\"gap\",\"kind\":\"Any\",\"default\":\"\"},{\"name\":\"justify_content\",\"kind\":\"Any\",\"default\":\"flex-start\"}]},{\"type\":\"model\",\"name\":\"FloatPanel1\",\"properties\":[{\"name\":\"config\",\"kind\":\"Any\",\"default\":{\"type\":\"map\"}},{\"name\":\"contained\",\"kind\":\"Any\",\"default\":true},{\"name\":\"position\",\"kind\":\"Any\",\"default\":\"right-top\"},{\"name\":\"offsetx\",\"kind\":\"Any\",\"default\":null},{\"name\":\"offsety\",\"kind\":\"Any\",\"default\":null},{\"name\":\"theme\",\"kind\":\"Any\",\"default\":\"primary\"},{\"name\":\"status\",\"kind\":\"Any\",\"default\":\"normalized\"}]},{\"type\":\"model\",\"name\":\"GridStack1\",\"properties\":[{\"name\":\"mode\",\"kind\":\"Any\",\"default\":\"warn\"},{\"name\":\"ncols\",\"kind\":\"Any\",\"default\":null},{\"name\":\"nrows\",\"kind\":\"Any\",\"default\":null},{\"name\":\"allow_resize\",\"kind\":\"Any\",\"default\":true},{\"name\":\"allow_drag\",\"kind\":\"Any\",\"default\":true},{\"name\":\"state\",\"kind\":\"Any\",\"default\":[]}]},{\"type\":\"model\",\"name\":\"drag1\",\"properties\":[{\"name\":\"slider_width\",\"kind\":\"Any\",\"default\":5},{\"name\":\"slider_color\",\"kind\":\"Any\",\"default\":\"black\"},{\"name\":\"value\",\"kind\":\"Any\",\"default\":50}]},{\"type\":\"model\",\"name\":\"click1\",\"properties\":[{\"name\":\"terminal_output\",\"kind\":\"Any\",\"default\":\"\"},{\"name\":\"debug_name\",\"kind\":\"Any\",\"default\":\"\"},{\"name\":\"clears\",\"kind\":\"Any\",\"default\":0}]},{\"type\":\"model\",\"name\":\"FastWrapper1\",\"properties\":[{\"name\":\"object\",\"kind\":\"Any\",\"default\":null},{\"name\":\"style\",\"kind\":\"Any\",\"default\":null}]},{\"type\":\"model\",\"name\":\"NotificationAreaBase1\",\"properties\":[{\"name\":\"js_events\",\"kind\":\"Any\",\"default\":{\"type\":\"map\"}},{\"name\":\"position\",\"kind\":\"Any\",\"default\":\"bottom-right\"},{\"name\":\"_clear\",\"kind\":\"Any\",\"default\":0}]},{\"type\":\"model\",\"name\":\"NotificationArea1\",\"properties\":[{\"name\":\"js_events\",\"kind\":\"Any\",\"default\":{\"type\":\"map\"}},{\"name\":\"notifications\",\"kind\":\"Any\",\"default\":[]},{\"name\":\"position\",\"kind\":\"Any\",\"default\":\"bottom-right\"},{\"name\":\"_clear\",\"kind\":\"Any\",\"default\":0},{\"name\":\"types\",\"kind\":\"Any\",\"default\":[{\"type\":\"map\",\"entries\":[[\"type\",\"warning\"],[\"background\",\"#ffc107\"],[\"icon\",{\"type\":\"map\",\"entries\":[[\"className\",\"fas fa-exclamation-triangle\"],[\"tagName\",\"i\"],[\"color\",\"white\"]]}]]},{\"type\":\"map\",\"entries\":[[\"type\",\"info\"],[\"background\",\"#007bff\"],[\"icon\",{\"type\":\"map\",\"entries\":[[\"className\",\"fas fa-info-circle\"],[\"tagName\",\"i\"],[\"color\",\"white\"]]}]]}]}]},{\"type\":\"model\",\"name\":\"Notification\",\"properties\":[{\"name\":\"background\",\"kind\":\"Any\",\"default\":null},{\"name\":\"duration\",\"kind\":\"Any\",\"default\":3000},{\"name\":\"icon\",\"kind\":\"Any\",\"default\":null},{\"name\":\"message\",\"kind\":\"Any\",\"default\":\"\"},{\"name\":\"notification_type\",\"kind\":\"Any\",\"default\":null},{\"name\":\"_destroyed\",\"kind\":\"Any\",\"default\":false}]},{\"type\":\"model\",\"name\":\"TemplateActions1\",\"properties\":[{\"name\":\"open_modal\",\"kind\":\"Any\",\"default\":0},{\"name\":\"close_modal\",\"kind\":\"Any\",\"default\":0}]},{\"type\":\"model\",\"name\":\"BootstrapTemplateActions1\",\"properties\":[{\"name\":\"open_modal\",\"kind\":\"Any\",\"default\":0},{\"name\":\"close_modal\",\"kind\":\"Any\",\"default\":0}]},{\"type\":\"model\",\"name\":\"TemplateEditor1\",\"properties\":[{\"name\":\"layout\",\"kind\":\"Any\",\"default\":[]}]},{\"type\":\"model\",\"name\":\"MaterialTemplateActions1\",\"properties\":[{\"name\":\"open_modal\",\"kind\":\"Any\",\"default\":0},{\"name\":\"close_modal\",\"kind\":\"Any\",\"default\":0}]},{\"type\":\"model\",\"name\":\"copy_to_clipboard1\",\"properties\":[{\"name\":\"fill\",\"kind\":\"Any\",\"default\":\"none\"},{\"name\":\"value\",\"kind\":\"Any\",\"default\":null}]}]}};\n",
       "  var render_items = [{\"docid\":\"ee4a0bb2-6998-4aeb-9f34-88c0e6b29161\",\"roots\":{\"p1002\":\"c5150da0-e819-4dff-98d9-52dc6784410e\"},\"root_ids\":[\"p1002\"]}];\n",
       "  var docs = Object.values(docs_json)\n",
       "  if (!docs) {\n",
       "    return\n",
       "  }\n",
       "  const py_version = docs[0].version.replace('rc', '-rc.').replace('.dev', '-dev.')\n",
       "  function embed_document(root) {\n",
       "    var Bokeh = get_bokeh(root)\n",
       "    Bokeh.embed.embed_items_notebook(docs_json, render_items);\n",
       "    for (const render_item of render_items) {\n",
       "      for (const root_id of render_item.root_ids) {\n",
       "\tconst id_el = document.getElementById(root_id)\n",
       "\tif (id_el.children.length && (id_el.children[0].className === 'bk-root')) {\n",
       "\t  const root_el = id_el.children[0]\n",
       "\t  root_el.id = root_el.id + '-rendered'\n",
       "\t}\n",
       "      }\n",
       "    }\n",
       "  }\n",
       "  function get_bokeh(root) {\n",
       "    if (root.Bokeh === undefined) {\n",
       "      return null\n",
       "    } else if (root.Bokeh.version !== py_version) {\n",
       "      if (root.Bokeh.versions === undefined || !root.Bokeh.versions.has(py_version)) {\n",
       "\treturn null\n",
       "      }\n",
       "      return root.Bokeh.versions.get(py_version);\n",
       "    } else if (root.Bokeh.version === py_version) {\n",
       "      return root.Bokeh\n",
       "    }\n",
       "    return null\n",
       "  }\n",
       "  function is_loaded(root) {\n",
       "    var Bokeh = get_bokeh(root)\n",
       "    return (Bokeh != null && Bokeh.Panel !== undefined)\n",
       "  }\n",
       "  if (is_loaded(root)) {\n",
       "    embed_document(root);\n",
       "  } else {\n",
       "    var attempts = 0;\n",
       "    var timer = setInterval(function(root) {\n",
       "      if (is_loaded(root)) {\n",
       "        clearInterval(timer);\n",
       "        embed_document(root);\n",
       "      } else if (document.readyState == \"complete\") {\n",
       "        attempts++;\n",
       "        if (attempts > 200) {\n",
       "          clearInterval(timer);\n",
       "\t  var Bokeh = get_bokeh(root)\n",
       "\t  if (Bokeh == null || Bokeh.Panel == null) {\n",
       "            console.warn(\"Panel: ERROR: Unable to run Panel code because Bokeh or Panel library is missing\");\n",
       "\t  } else {\n",
       "\t    console.warn(\"Panel: WARNING: Attempting to render but not all required libraries could be resolved.\")\n",
       "\t    embed_document(root)\n",
       "\t  }\n",
       "        }\n",
       "      }\n",
       "    }, 25, root)\n",
       "  }\n",
       "})(window);</script>"
      ]
     },
     "metadata": {
      "application/vnd.holoviews_exec.v0+json": {
       "id": "p1002"
      }
     },
     "output_type": "display_data"
    }
   ],
   "source": [
    "import pandas as pd\n",
    "import hvplot.pandas\n",
    "import matplotlib.pyplot as plt\n",
    "from pathlib import Path\n",
    "from sklearn.cluster import KMeans\n",
    "from sklearn.preprocessing import StandardScaler\n",
    "import findspark\n",
    "from pyspark.sql import SparkSession\n"
   ]
  },
  {
   "cell_type": "code",
   "execution_count": 3,
   "metadata": {},
   "outputs": [],
   "source": [
    "#Display all the columns (to see which to drop)\n",
    "pd.set_option(\"display.max_columns\", None)"
   ]
  },
  {
   "cell_type": "markdown",
   "metadata": {},
   "source": [
    "## Read In CSV data for Mutual Fund prices A-Z\n"
   ]
  },
  {
   "cell_type": "code",
   "execution_count": 4,
   "metadata": {},
   "outputs": [],
   "source": [
    "# Initialize spark\n",
    "findspark.init()\n",
    "\n",
    "# Create a SparkSession\n",
    "#spark = SparkSession.builder.appName(\"SparkSQL\").getOrCreate()\n",
    "spark = SparkSession.builder.appName(\"SparkSQL\").config(\"spark.driver.memory\", \"2g\").getOrCreate()"
   ]
  },
  {
   "cell_type": "code",
   "execution_count": 5,
   "metadata": {},
   "outputs": [
    {
     "data": {
      "text/html": [
       "<div>\n",
       "<style scoped>\n",
       "    .dataframe tbody tr th:only-of-type {\n",
       "        vertical-align: middle;\n",
       "    }\n",
       "\n",
       "    .dataframe tbody tr th {\n",
       "        vertical-align: top;\n",
       "    }\n",
       "\n",
       "    .dataframe thead th {\n",
       "        text-align: right;\n",
       "    }\n",
       "</style>\n",
       "<table border=\"1\" class=\"dataframe\">\n",
       "  <thead>\n",
       "    <tr style=\"text-align: right;\">\n",
       "      <th></th>\n",
       "      <th>fund_symbol</th>\n",
       "      <th>price_date</th>\n",
       "      <th>nav_per_share</th>\n",
       "    </tr>\n",
       "  </thead>\n",
       "  <tbody>\n",
       "    <tr>\n",
       "      <th>0</th>\n",
       "      <td>AAAAX</td>\n",
       "      <td>2007-07-31</td>\n",
       "      <td>10.02</td>\n",
       "    </tr>\n",
       "    <tr>\n",
       "      <th>1</th>\n",
       "      <td>AAAAX</td>\n",
       "      <td>2007-08-01</td>\n",
       "      <td>9.98</td>\n",
       "    </tr>\n",
       "    <tr>\n",
       "      <th>2</th>\n",
       "      <td>AAAAX</td>\n",
       "      <td>2007-08-02</td>\n",
       "      <td>10.01</td>\n",
       "    </tr>\n",
       "    <tr>\n",
       "      <th>3</th>\n",
       "      <td>AAAAX</td>\n",
       "      <td>2007-08-03</td>\n",
       "      <td>9.90</td>\n",
       "    </tr>\n",
       "    <tr>\n",
       "      <th>4</th>\n",
       "      <td>AAAAX</td>\n",
       "      <td>2007-08-06</td>\n",
       "      <td>9.93</td>\n",
       "    </tr>\n",
       "  </tbody>\n",
       "</table>\n",
       "</div>"
      ],
      "text/plain": [
       "  fund_symbol  price_date  nav_per_share\n",
       "0       AAAAX  2007-07-31          10.02\n",
       "1       AAAAX  2007-08-01           9.98\n",
       "2       AAAAX  2007-08-02          10.01\n",
       "3       AAAAX  2007-08-03           9.90\n",
       "4       AAAAX  2007-08-06           9.93"
      ]
     },
     "execution_count": 5,
     "metadata": {},
     "output_type": "execute_result"
    }
   ],
   "source": [
    "#Read in CSV data \n",
    "#MutualFund prices A-E\n",
    "df_AE= pd.read_csv(\n",
    "    Path(\"Resources/MutualFund Prices - A-E.csv\")\n",
    ")\n",
    "df_AE.head()"
   ]
  },
  {
   "cell_type": "code",
   "execution_count": 6,
   "metadata": {},
   "outputs": [
    {
     "data": {
      "text/plain": [
       "[Row(fund_symbol='AAAAX', price_date='2007-07-31', nav_per_share='10.02'),\n",
       " Row(fund_symbol='AAAAX', price_date='2007-08-01', nav_per_share='9.98'),\n",
       " Row(fund_symbol='AAAAX', price_date='2007-08-02', nav_per_share='10.01'),\n",
       " Row(fund_symbol='AAAAX', price_date='2007-08-03', nav_per_share='9.9'),\n",
       " Row(fund_symbol='AAAAX', price_date='2007-08-06', nav_per_share='9.93')]"
      ]
     },
     "execution_count": 6,
     "metadata": {},
     "output_type": "execute_result"
    }
   ],
   "source": [
    "#Read in CSV data \n",
    "#MutualFund prices A-E\n",
    "AE_path = \"Resources/MutualFund Prices - A-E.csv\"\n",
    "df_AE= spark.read.csv(AE_path, header=True)\n",
    "df_AE.head(5)"
   ]
  },
  {
   "cell_type": "code",
   "execution_count": 7,
   "metadata": {},
   "outputs": [
    {
     "data": {
      "text/html": [
       "<div>\n",
       "<style scoped>\n",
       "    .dataframe tbody tr th:only-of-type {\n",
       "        vertical-align: middle;\n",
       "    }\n",
       "\n",
       "    .dataframe tbody tr th {\n",
       "        vertical-align: top;\n",
       "    }\n",
       "\n",
       "    .dataframe thead th {\n",
       "        text-align: right;\n",
       "    }\n",
       "</style>\n",
       "<table border=\"1\" class=\"dataframe\">\n",
       "  <thead>\n",
       "    <tr style=\"text-align: right;\">\n",
       "      <th></th>\n",
       "      <th>fund_symbol</th>\n",
       "      <th>price_date</th>\n",
       "      <th>nav_per_share</th>\n",
       "    </tr>\n",
       "  </thead>\n",
       "  <tbody>\n",
       "    <tr>\n",
       "      <th>0</th>\n",
       "      <td>FAAAX</td>\n",
       "      <td>2013-11-20</td>\n",
       "      <td>10.08</td>\n",
       "    </tr>\n",
       "    <tr>\n",
       "      <th>1</th>\n",
       "      <td>FAAAX</td>\n",
       "      <td>2013-11-21</td>\n",
       "      <td>10.13</td>\n",
       "    </tr>\n",
       "    <tr>\n",
       "      <th>2</th>\n",
       "      <td>FAAAX</td>\n",
       "      <td>2013-11-22</td>\n",
       "      <td>10.17</td>\n",
       "    </tr>\n",
       "    <tr>\n",
       "      <th>3</th>\n",
       "      <td>FAAAX</td>\n",
       "      <td>2013-11-25</td>\n",
       "      <td>10.18</td>\n",
       "    </tr>\n",
       "    <tr>\n",
       "      <th>4</th>\n",
       "      <td>FAAAX</td>\n",
       "      <td>2013-11-26</td>\n",
       "      <td>10.20</td>\n",
       "    </tr>\n",
       "  </tbody>\n",
       "</table>\n",
       "</div>"
      ],
      "text/plain": [
       "  fund_symbol  price_date  nav_per_share\n",
       "0       FAAAX  2013-11-20          10.08\n",
       "1       FAAAX  2013-11-21          10.13\n",
       "2       FAAAX  2013-11-22          10.17\n",
       "3       FAAAX  2013-11-25          10.18\n",
       "4       FAAAX  2013-11-26          10.20"
      ]
     },
     "execution_count": 7,
     "metadata": {},
     "output_type": "execute_result"
    }
   ],
   "source": [
    "#Read in CSV data \n",
    "#MutualFund prices F-K\n",
    "df_FK= pd.read_csv(\n",
    "    Path(\"Resources/MutualFund Prices - F-K.csv\")\n",
    ")\n",
    "df_FK.head()"
   ]
  },
  {
   "cell_type": "markdown",
   "metadata": {},
   "source": [
    "# Read in Mutual Fund informaiton csv\n"
   ]
  },
  {
   "cell_type": "markdown",
   "metadata": {},
   "source": [
    "If we drop rows that have an `NaN`, then all data is removed. Instead, let's look at the columns that have missing data."
   ]
  },
  {
   "cell_type": "markdown",
   "metadata": {},
   "source": [
    "We plan to find the number of columns that have above a certain percentage of `NaN` and then remove those columns. We have chosen 60% so far."
   ]
  },
  {
   "cell_type": "markdown",
   "metadata": {},
   "source": [
    "# Binning!"
   ]
  },
  {
   "cell_type": "markdown",
   "metadata": {},
   "source": [
    "Binning `fund_category`"
   ]
  },
  {
   "cell_type": "markdown",
   "metadata": {},
   "source": [
    "Binning `fund_family_type_count`"
   ]
  },
  {
   "cell_type": "markdown",
   "metadata": {},
   "source": [
    "Binning `esg_peer_group`"
   ]
  },
  {
   "cell_type": "markdown",
   "metadata": {},
   "source": [
    "# Merge mutualFunds and mutual_fund_df on index= \"fund_symbol\""
   ]
  },
  {
   "cell_type": "markdown",
   "metadata": {},
   "source": [
    "## Read In CSV data for ETF prices and ETF information\n"
   ]
  },
  {
   "cell_type": "code",
   "execution_count": 26,
   "metadata": {},
   "outputs": [],
   "source": [
    "# Read in ETF data \n",
    "# ETF Prices\n",
    "ETF_prices_path = 'Resources/ETF prices.csv'\n",
    "df_ETF_prices= spark.read.csv(ETF_prices_path, header=True, inferSchema=True)\n",
    "\n",
    "# ETF Prices\n",
    "ETFs_path = 'Resources/ETFs.csv'\n",
    "df_ETFs= spark.read.csv(ETFs_path, header=True, inferSchema=True)\n"
   ]
  },
  {
   "cell_type": "code",
   "execution_count": 40,
   "metadata": {},
   "outputs": [
    {
     "data": {
      "text/plain": [
       "[Row(fund_symbol='AAA', price_date=datetime.date(2020, 9, 9), open=25.1, high=25.12, low=25.07, close=25.07, adj_close=24.85, volume=17300),\n",
       " Row(fund_symbol='AAA', price_date=datetime.date(2020, 9, 10), open=25.06, high=25.07, low=25.05, close=25.07, adj_close=24.85, volume=23500),\n",
       " Row(fund_symbol='AAA', price_date=datetime.date(2020, 9, 11), open=25.04, high=25.05, low=25.02, close=25.03, adj_close=24.81, volume=33400),\n",
       " Row(fund_symbol='AAA', price_date=datetime.date(2020, 9, 14), open=25.01, high=25.06, low=25.01, close=25.02, adj_close=24.8, volume=13100),\n",
       " Row(fund_symbol='AAA', price_date=datetime.date(2020, 9, 15), open=25.02, high=25.03, low=25.01, close=25.01, adj_close=24.79, volume=12100)]"
      ]
     },
     "execution_count": 40,
     "metadata": {},
     "output_type": "execute_result"
    }
   ],
   "source": [
    "df_ETF_prices.head(5)"
   ]
  },
  {
   "cell_type": "code",
   "execution_count": 28,
   "metadata": {},
   "outputs": [
    {
     "data": {
      "text/plain": [
       "[Row(fund_symbol='AAAU', quote_type='ETF', region='US', fund_short_name='DWS RREEF Real Assets Fund - Cl', fund_long_name='DWS RREEF Real Assets Fund - Class A', currency='USD', fund_category=None, fund_family='DWS', exchange_code='PCX', exchange_name='NYSEArca', exchange_timezone='America/New_York', avg_vol_3month=239238, avg_vol_10day=255410, total_net_assets=384448608, day50_moving_average=17.807, day200_moving_average=17.818, week52_high_low_change=2.75, week52_high_low_change_perc=0.14146, week52_high=19.44, week52_high_change=-1.72, week52_high_change_perc=-0.08848, week52_low=16.69, week52_low_change=1.03, week52_low_change_perc=0.06171, investment_strategy='\"The investment seeks total return in excess of inflation through capital growth and current income. The fund will invest at least 80% of its net assets, plus the amount of any borrowings for investment purposes, in a combination of investments that the Advisor believes offer exposure to \"\"real assets.\"\" It generally invests between 25% and 75% of fund assets in securities of foreign issuers', fund_yield=' including up to 10% of fund assets in issuers located in countries with new or emerging markets.\"', inception_date=None, annual_holdings_turnover='2018-07-24', investment_type=None, size_type=None, fund_annual_report_net_expense_ratio=None, category_annual_report_net_expense_ratio='0.0018', asset_stocks=None, asset_bonds=None, fund_sector_basic_materials=None, fund_sector_communication_services=None, fund_sector_consumer_cyclical=None, fund_sector_consumer_defensive=None, fund_sector_energy=None, fund_sector_financial_services=None, fund_sector_healthcare=None, fund_sector_industrials=None, fund_sector_real_estate=None, fund_sector_technology=None, fund_sector_utilities=None, fund_price_book_ratio=None, fund_price_cashflow_ratio=None, fund_price_earning_ratio=None, fund_price_sales_ratio=None, fund_bond_maturity=None, fund_bond_duration=None, fund_bonds_us_government=None, fund_bonds_aaa=None, fund_bonds_aa=None, fund_bonds_a=None, fund_bonds_bbb=None, fund_bonds_bb=None, fund_bonds_b=None, fund_bonds_below_b=None, fund_bonds_others=None, top10_holdings=None, top10_holdings_total_assets='\"\"\"Cayman Real Assets Fund Ltd.\"\": 0.1098', returns_as_of_date=' CCI (\"\"Crown Castle International Corp\"\"): 0.0258', fund_return_ytd=' LNG (\"\"Cheniere Energy Inc\"\"): 0.0241', category_return_ytd=' \"\"United States Treasury Notes 1.62%\"\": 0.0189', fund_return_1month=' FCX (\"\"Freeport-McMoRan Inc\"\"): 0.0175', category_return_1month=' \"\"United States Treasury Notes 0.12%\"\": 0.0156', fund_return_3months=' AMT (\"\"American Tower Corp\"\"): 0.0146', category_return_3months=' WMB (\"\"Williams Companies Inc\"\"): 0.0144', fund_return_1year=' \"\"Lme Pri Alum Futr Jul21 Xlme 20210719\"\": 0.0139\"', category_return_1year='1', fund_return_3years='2021-08-31', category_return_3years='-0.0465', fund_return_5years=None, category_return_5years=None, fund_return_10years=None, category_return_10years='-0.0467', years_up=None, years_down='-0.079', fund_return_2020=None, category_return_2020='0.146', fund_return_2019=None, category_return_2019=None, fund_return_2018=None, category_return_2018=None, fund_return_2017=None, category_return_2017=2.0, fund_return_2016=0.0, category_return_2016=0.23963, fund_return_2015=None, category_return_2015=0.18579, fund_return_2014=None, category_return_2014=None, fund_return_2013=None, category_return_2013=None, fund_return_2012=None, category_return_2012=None, fund_return_2011=None, category_return_2011=None, fund_return_2010=None, category_return_2010=None, fund_return_2009=None, category_return_2009=None, fund_return_2008=None, category_return_2008=None, fund_return_2007=None, category_return_2007=None, fund_return_2006=None, category_return_2006=None, fund_return_2005=None, category_return_2005=None, fund_return_2004=None, category_return_2004=None, fund_return_2003=None, category_return_2003=None, fund_return_2002=None, category_return_2002=None, fund_return_2001=None, category_return_2001=None, fund_return_2000=None, category_return_2000=None, fund_alpha_3years=None, fund_beta_3years=None, fund_mean_annual_return_3years=None, fund_r_squared_3years=None, fund_stdev_3years=None, fund_sharpe_ratio_3years=None, fund_treynor_ratio_3years=None, fund_alpha_5years=None, fund_beta_5years=None, fund_mean_annual_return_5years=13.18, fund_r_squared_5years=0.07, fund_stdev_5years=1.23, fund_sharpe_ratio_5years=0.54, fund_treynor_ratio_5years=14.93, fund_alpha_10years=0.91, fund_beta_10years=187.1, fund_mean_annual_return_10years=None, fund_r_squared_10years=None, fund_stdev_10years=None, fund_sharpe_ratio_10years=None, fund_treynor_ratio_10years=None),\n",
       " Row(fund_symbol='AADR', quote_type='ETF', region='US', fund_short_name='AllianzGI Health Sciences Fund ', fund_long_name='Virtus AllianzGI Health Sciences Fund Class P', currency='USD', fund_category='Foreign Large Growth', fund_family='Virtus', exchange_code='NGM', exchange_name='NasdaqGM', exchange_timezone='America/New_York', avg_vol_3month=2596, avg_vol_10day=3170, total_net_assets=88836160, day50_moving_average=64.555, day200_moving_average=65.297, week52_high_low_change=11.82, week52_high_low_change_perc=0.17042, week52_high=69.36, week52_high_change=-7.8645, week52_high_change_perc=-0.11339, week52_low=57.54, week52_low_change=3.9555, week52_low_change_perc=0.06874, investment_strategy='The investment seeks long-term capital appreciation. The fund seeks to achieve its objective by normally investing at least 80% of its net assets (plus borrowings made for investment purposes) in health sciences-related companies. The portfolio manager considers health sciences-related companies to include companies that design, manufacture or sell products or services used for or in connection with healthcare, medicine or life sciences. The fund will invest primarily in common stocks and other equity securities.', fund_yield='0.0031', inception_date='2010-07-20', annual_holdings_turnover=None, investment_type='Blend', size_type='Large', fund_annual_report_net_expense_ratio='0.011', category_annual_report_net_expense_ratio='0.0066', asset_stocks=None, asset_bonds=None, fund_sector_basic_materials='0.2536', fund_sector_communication_services='0.0736', fund_sector_consumer_cyclical='0.1164', fund_sector_consumer_defensive='0', fund_sector_energy='0.0455', fund_sector_financial_services=0.1125, fund_sector_healthcare=0.0799, fund_sector_industrials=0.1394, fund_sector_real_estate=0.0, fund_sector_technology=0.1791, fund_sector_utilities=0.0, fund_price_book_ratio=1.71, fund_price_cashflow_ratio=7.46, fund_price_earning_ratio=13.34, fund_price_sales_ratio=1.2, fund_bond_maturity=None, fund_bond_duration=None, fund_bonds_us_government=None, fund_bonds_aaa=None, fund_bonds_aa=None, fund_bonds_a=None, fund_bonds_bbb=None, fund_bonds_bb=None, fund_bonds_b=None, fund_bonds_below_b=None, fund_bonds_others=None, top10_holdings='\"AZN. L (\"\"AstraZeneca PLC ADR\"\"): 0.0585', top10_holdings_total_assets=' MDT (\"\"Medtronic PLC\"\"): 0.0551', returns_as_of_date=' BMY (\"\"Bristol-Myers Squibb Company\"\"): 0.0534', fund_return_ytd=' PFE (\"\"Pfizer Inc\"\"): 0.0498', category_return_ytd=' LLY (\"\"Eli Lilly and Co\"\"): 0.049', fund_return_1month=' AVTR (\"\"Avantor Inc\"\"): 0.0357', category_return_1month=' ANTM (\"\"Anthem Inc\"\"): 0.0349', fund_return_3months=' NVS (\"\"Novartis AG ADR\"\"): 0.0341', category_return_3months=' HZNP (\"\"Horizon Therapeutics PLC\"\"): 0.0308', fund_return_1year=' TFX (\"\"Teleflex Inc\"\"): 0.0272\"', category_return_1year='0.388', fund_return_3years='2021-06-30', category_return_3years='0.094', fund_return_5years='0.041', category_return_5years='0.0049', fund_return_10years='0.0161', category_return_10years='0.0688', years_up='0.0508', years_down='0.2587', fund_return_2020='0.1047', category_return_2020='0.0803', fund_return_2019=0.0233, category_return_2019=0.1188, fund_return_2018=0.0824, category_return_2018=0.083, fund_return_2017=0.0243, category_return_2017=7.0, fund_return_2016=3.0, category_return_2016=0.12619, fund_return_2015=None, category_return_2015=0.35885, fund_return_2014=None, category_return_2014=-0.31185, fund_return_2013=None, category_return_2013=0.46928, fund_return_2012=None, category_return_2012=0.05575, fund_return_2011=None, category_return_2011=0.0438, fund_return_2010=0.01427, category_return_2010=-0.0083, fund_return_2009=-0.03065, category_return_2009=0.20878, fund_return_2008=0.26387, category_return_2008=0.12653, fund_return_2007=0.14598, category_return_2007=-0.05806, fund_return_2006=-0.09042, category_return_2006=None, fund_return_2005=0.11984, category_return_2005=None, fund_return_2004=0.2908, category_return_2004=None, fund_return_2003=-0.42427, category_return_2003=None, fund_return_2002=0.31193, category_return_2002=None, fund_return_2001=0.21884, category_return_2001=None, fund_return_2000=None, category_return_2000=None, fund_alpha_3years=None, fund_beta_3years=None, fund_mean_annual_return_3years=None, fund_r_squared_3years=None, fund_stdev_3years=None, fund_sharpe_ratio_3years=None, fund_treynor_ratio_3years=None, fund_alpha_5years=None, fund_beta_5years=None, fund_mean_annual_return_5years=-1.3, fund_r_squared_5years=1.11, fund_stdev_5years=0.85, fund_sharpe_ratio_5years=75.96, fund_treynor_ratio_5years=22.42, fund_alpha_10years=0.4, fund_beta_10years=6.11, fund_mean_annual_return_10years=0.38, fund_r_squared_10years=1.11, fund_stdev_10years=1.1, fund_sharpe_ratio_10years=70.49, fund_treynor_ratio_10years=19.3),\n",
       " Row(fund_symbol='AAXJ', quote_type='ETF', region='US', fund_short_name=None, fund_long_name='American Century One Choice Blend+ 2015 Portfolio Investor Class', currency='USD', fund_category='Pacific/Asia ex-Japan Stk', fund_family='American Century Investments', exchange_code='NGM', exchange_name='NasdaqGM', exchange_timezone='America/New_York', avg_vol_3month=1036417, avg_vol_10day=1287600, total_net_assets=5574671872, day50_moving_average=86.132, day200_moving_average=90.435, week52_high_low_change=19.99, week52_high_low_change_perc=0.19514, week52_high=102.44, week52_high_change=-19.43, week52_high_change_perc=-0.18967, week52_low=82.45, week52_low_change=0.56001, week52_low_change_perc=0.00679, investment_strategy='\"The investment seeks the highest total return consistent with its asset mix. The fund is a \"\"fund of funds', fund_yield='\"\" meaning that it seeks to achieve its objective by investing in other mutual funds and exchange-traded funds (ETFs) advised by American Century (collectively', inception_date=' the underlying funds) that represent a variety of asset classes and investment styles. The underlying stock funds draw on growth', annual_holdings_turnover=' value and quantitative investment techniques and diversify investments among small', investment_type=' medium and large U.S. and foreign companies.\"', size_type='0.011', fund_annual_report_net_expense_ratio='2008-08-13', category_annual_report_net_expense_ratio='0.23', asset_stocks='Blend', asset_bonds='Large', fund_sector_basic_materials='0.007', fund_sector_communication_services='0.0054', fund_sector_consumer_cyclical=None, fund_sector_consumer_defensive=None, fund_sector_energy='0.0523', fund_sector_financial_services=0.1053, fund_sector_healthcare=0.1683, fund_sector_industrials=0.0474, fund_sector_real_estate=0.0266, fund_sector_technology=0.1824, fund_sector_utilities=0.0524, fund_price_book_ratio=0.0579, fund_price_cashflow_ratio=0.0391, fund_price_earning_ratio=0.2444, fund_price_sales_ratio=0.0239, fund_bond_maturity=2.03, fund_bond_duration=11.7, fund_bonds_us_government=18.0, fund_bonds_aaa=1.42, fund_bonds_aa=None, fund_bonds_a=None, fund_bonds_bbb=None, fund_bonds_bb=None, fund_bonds_b=None, fund_bonds_below_b=None, fund_bonds_others=None, top10_holdings=None, top10_holdings_total_assets=None, returns_as_of_date=None, fund_return_ytd=None, category_return_ytd='\"AVBNX (\"\"Avantis© Core Fixed Income G\"\"): 0.2708', fund_return_1month=' AGBGX (\"\"American Century Global Bond G\"\"): 0.1237', category_return_1month=' AVUNX (\"\"Avantis© U.S. Equity G\"\"): 0.081', fund_return_3months=' ACLLX (\"\"American Century NT Focused Lg Cap Val G\"\"): 0.0649', category_return_3months=' APOGX (\"\"American Century Short Dur Infl ProBd G\"\"): 0.0622', fund_return_1year=' AVGNX (\"\"Avantis© Short-Term Fixed Income G\"\"): 0.0619', category_return_1year=' ACFGX (\"\"American Century Focused Dynamic Gr G\"\"): 0.0526', fund_return_3years=' AINGX (\"\"American Century Inflation-Adjs Bond G\"\"): 0.0495', category_return_3years=' LVOL (\"\"American Century Low Volatility ETF\"\"): 0.0478', fund_return_5years=' AVDNX (\"\"Avantis© International Equity G\"\"): 0.0414\"', category_return_5years='0.3005', fund_return_10years='2021-07-31', category_return_10years='-0.0173', years_up='0.0984', years_down='-0.0709', fund_return_2020='-0.0199', category_return_2020='-0.06', fund_return_2019=0.01, category_return_2019=0.1859, fund_return_2018=0.0708, category_return_2018=0.0804, fund_return_2017=0.0024, category_return_2017=0.1067, fund_return_2016=0.0352, category_return_2016=0.0535, fund_return_2015=0.0467, category_return_2015=9.0, fund_return_2014=3.0, category_return_2014=0.23865, fund_return_2013=None, category_return_2013=0.17398, fund_return_2012=None, category_return_2012=-0.14814, fund_return_2011=None, category_return_2011=0.40517, fund_return_2010=None, category_return_2010=0.04833, fund_return_2009=None, category_return_2009=-0.0985, fund_return_2008=-0.08923, category_return_2008=0.03925, fund_return_2007=0.02285, category_return_2007=0.02478, fund_return_2006=0.02827, category_return_2006=0.21386, fund_return_2005=0.20639, category_return_2005=-0.20008, fund_return_2004=-0.20255, category_return_2004=0.15532, fund_return_2003=0.19485, category_return_2003=0.70891, fund_return_2002=0.73761, category_return_2002=None, fund_return_2001=-0.51342, category_return_2001=None, fund_return_2000=0.39069, category_return_2000=None, fund_alpha_3years=0.37975, fund_beta_3years=None, fund_mean_annual_return_3years=0.14049, fund_r_squared_3years=None, fund_stdev_3years=0.21046, fund_sharpe_ratio_3years=None, fund_treynor_ratio_3years=0.38684, fund_alpha_5years=None, fund_beta_5years=-0.07992, fund_mean_annual_return_5years=None, fund_r_squared_5years=0.02745, fund_stdev_5years=None, fund_sharpe_ratio_5years=-0.16595, fund_treynor_ratio_5years=1.2, fund_alpha_10years=0.9, fund_beta_10years=0.8, fund_mean_annual_return_10years=74.34, fund_r_squared_10years=18.48, fund_stdev_10years=0.46, fund_sharpe_ratio_10years=7.8, fund_treynor_ratio_10years=1.89),\n",
       " Row(fund_symbol='ABEQ', quote_type='ETF', region='US', fund_short_name='Thrivent Large Cap Growth Fund ', fund_long_name='Thrivent Large Cap Growth Fund Class A', currency='USD', fund_category='Large Value', fund_family='Thrivent Funds', exchange_code='PCX', exchange_name='NYSEArca', exchange_timezone='America/New_York', avg_vol_3month=4280, avg_vol_10day=8540, total_net_assets=49694168, day50_moving_average=27.639, day200_moving_average=27.389, week52_high_low_change=4.34, week52_high_low_change_perc=0.15069, week52_high=28.8, week52_high_change=-1.69, week52_high_change_perc=-0.05868, week52_low=24.46, week52_low_change=2.65, week52_low_change_perc=0.10834, investment_strategy='The investment seeks long-term capital appreciation. The fund invests at least 80% of its net assets (plus the amount of any borrowing for investment purposes) in equity securities of large companies. The Adviser focuses mainly on the equity securities of large domestic and international companies which have market capitalizations equivalent to those included in widely known indices such as the Russell 1000 Growth Index, S&P 500 Index, or the large company market capitalization classifications published by Lipper, Inc. These companies typically have a market capitalization of approximately $8 billion or more. The fund is non-diversified.', fund_yield='0.0049', inception_date='2020-01-21', annual_holdings_turnover='0.36', investment_type='Value', size_type='Large', fund_annual_report_net_expense_ratio='0.0088', category_annual_report_net_expense_ratio='0.0034', asset_stocks=None, asset_bonds=None, fund_sector_basic_materials='0.2174', fund_sector_communication_services='0.028', fund_sector_consumer_cyclical='0.042', fund_sector_consumer_defensive='0.1042', fund_sector_energy='0.0606', fund_sector_financial_services=0.2352, fund_sector_healthcare=0.1335, fund_sector_industrials=0.0147, fund_sector_real_estate=0.0625, fund_sector_technology=0.0597, fund_sector_utilities=0.0422, fund_price_book_ratio=1.79, fund_price_cashflow_ratio=12.48, fund_price_earning_ratio=16.71, fund_price_sales_ratio=1.91, fund_bond_maturity=None, fund_bond_duration=None, fund_bonds_us_government=None, fund_bonds_aaa=None, fund_bonds_aa=None, fund_bonds_a=None, fund_bonds_bbb=None, fund_bonds_bb=None, fund_bonds_b=None, fund_bonds_below_b=None, fund_bonds_others=None, top10_holdings='\"AMZN (\"\"Amazon.com Inc\"\"): 0.1102', top10_holdings_total_assets=' MSFT (\"\"Microsoft Corp\"\"): 0.0755', returns_as_of_date=' AAPL (\"\"Apple Inc\"\"): 0.0752', fund_return_ytd=' GOOGL (\"\"Alphabet Inc A\"\"): 0.0749', category_return_ytd=' PYPL (\"\"PayPal Holdings Inc\"\"): 0.0469', fund_return_1month=' FB (\"\"Facebook Inc A\"\"): 0.0464', category_return_1month=' MA (\"\"Mastercard Inc A\"\"): 0.0374', fund_return_3months=' ADBE (\"\"Adobe Inc\"\"): 0.0313', category_return_3months=' SQ (\"\"Square Inc A\"\"): 0.0295', fund_return_1year=' NVDA (\"\"NVIDIA Corp\"\"): 0.0292\"', category_return_1year='0.4456', fund_return_3years='2021-06-30', category_return_3years='0.07', fund_return_5years='0.109', category_return_5years='-0.0383', fund_return_10years='-0.001', category_return_10years='0.0378', years_up='0.0326', years_down='0.2252', fund_return_2020='0.1704', category_return_2020=None, fund_return_2019=0.1053, category_return_2019=None, fund_return_2018=0.1536, category_return_2018=None, fund_return_2017=0.0655, category_return_2017=None, fund_return_2016=None, category_return_2016=None, fund_return_2015=None, category_return_2015=None, fund_return_2014=None, category_return_2014=None, fund_return_2013=None, category_return_2013=None, fund_return_2012=None, category_return_2012=None, fund_return_2011=None, category_return_2011=None, fund_return_2010=-0.0189, category_return_2010=None, fund_return_2009=0.1253, category_return_2009=None, fund_return_2008=0.30048, category_return_2008=None, fund_return_2007=0.14025, category_return_2007=None, fund_return_2006=0.04626, category_return_2006=None, fund_return_2005=0.16532, category_return_2005=None, fund_return_2004=0.25157, category_return_2004=None, fund_return_2003=-0.35846, category_return_2003=None, fund_return_2002=0.01809, category_return_2002=None, fund_return_2001=0.20182, category_return_2001=None, fund_return_2000=0.05311, category_return_2000=None, fund_alpha_3years=0.14458, fund_beta_3years=None, fund_mean_annual_return_3years=0.30804, fund_r_squared_3years=None, fund_stdev_3years=-0.17206, fund_sharpe_ratio_3years=None, fund_treynor_ratio_3years=-0.0626, fund_alpha_5years=None, fund_beta_5years=0.06973, fund_mean_annual_return_5years=None, fund_r_squared_5years=None, fund_stdev_5years=None, fund_sharpe_ratio_5years=None, fund_treynor_ratio_5years=None, fund_alpha_10years=None, fund_beta_10years=None, fund_mean_annual_return_10years=None, fund_r_squared_10years=None, fund_stdev_10years=None, fund_sharpe_ratio_10years=None, fund_treynor_ratio_10years=None),\n",
       " Row(fund_symbol='ACES', quote_type='ETF', region='US', fund_short_name=None, fund_long_name='American Century One Choice Blend+ 2015 Portfolio I Class', currency='USD', fund_category='Miscellaneous Sector', fund_family='American Century Investments', exchange_code='PCX', exchange_name='NYSEArca', exchange_timezone='America/New_York', avg_vol_3month=106048, avg_vol_10day=51400, total_net_assets=1007483264, day50_moving_average=73.532, day200_moving_average=72.601, week52_high_low_change=40.67, week52_high_low_change_perc=0.39982, week52_high=101.72, week52_high_change=-33.89, week52_high_change_perc=-0.33317, week52_low=61.05, week52_low_change=6.78, week52_low_change_perc=0.11106, investment_strategy='\"The investment seeks the highest total return consistent with its asset mix. The fund is a \"\"fund of funds', fund_yield='\"\" meaning that it seeks to achieve its objective by investing in other mutual funds and exchange-traded funds (ETFs) advised by American Century (collectively', inception_date=' the underlying funds) that represent a variety of asset classes and investment styles. The underlying stock funds draw on growth', annual_holdings_turnover=' value and quantitative investment techniques and diversify investments among small', investment_type=' medium and large U.S. and foreign companies.\"', size_type='0.0053', fund_annual_report_net_expense_ratio='2018-06-27', category_annual_report_net_expense_ratio=None, asset_stocks='Growth', asset_bonds='Medium', fund_sector_basic_materials='0.0055', fund_sector_communication_services='0.0067', fund_sector_consumer_cyclical='0.9992', fund_sector_consumer_defensive='0', fund_sector_energy='0.0096', fund_sector_financial_services=0.0, fund_sector_healthcare=0.1412, fund_sector_industrials=0.0, fund_sector_real_estate=0.0301, fund_sector_technology=0.0, fund_sector_utilities=0.0, fund_price_book_ratio=0.1956, fund_price_cashflow_ratio=0.0353, fund_price_earning_ratio=0.3491, fund_price_sales_ratio=0.239, fund_bond_maturity=3.62, fund_bond_duration=15.08, fund_bonds_us_government=31.27, fund_bonds_aaa=4.09, fund_bonds_aa=None, fund_bonds_a=None, fund_bonds_bbb=None, fund_bonds_bb=None, fund_bonds_b=None, fund_bonds_below_b=None, fund_bonds_others=None, top10_holdings=None, top10_holdings_total_assets=None, returns_as_of_date=None, fund_return_ytd=None, category_return_ytd='\"AVBNX (\"\"Avantis© Core Fixed Income G\"\"): 0.2708', fund_return_1month=' AGBGX (\"\"American Century Global Bond G\"\"): 0.1237', category_return_1month=' AVUNX (\"\"Avantis© U.S. Equity G\"\"): 0.081', fund_return_3months=' ACLLX (\"\"American Century NT Focused Lg Cap Val G\"\"): 0.0649', category_return_3months=' APOGX (\"\"American Century Short Dur Infl ProBd G\"\"): 0.0622', fund_return_1year=' AVGNX (\"\"Avantis© Short-Term Fixed Income G\"\"): 0.0619', category_return_1year=' ACFGX (\"\"American Century Focused Dynamic Gr G\"\"): 0.0526', fund_return_3years=' AINGX (\"\"American Century Inflation-Adjs Bond G\"\"): 0.0495', category_return_3years=' LVOL (\"\"American Century Low Volatility ETF\"\"): 0.0478', fund_return_5years=' AVDNX (\"\"Avantis© International Equity G\"\"): 0.0414\"', category_return_5years='0.5039', fund_return_10years='2021-06-30', category_return_10years='-0.0511', years_up=None, years_down='0.0988', fund_return_2020=None, category_return_2020='-0.026', fund_return_2019=None, category_return_2019=0.9507, fund_return_2018=None, category_return_2018=0.462, fund_return_2017=None, category_return_2017=None, fund_return_2016=None, category_return_2016=None, fund_return_2015=None, category_return_2015=2.0, fund_return_2014=0.0, category_return_2014=1.40147, fund_return_2013=None, category_return_2013=0.5151, fund_return_2012=None, category_return_2012=None, fund_return_2011=None, category_return_2011=None, fund_return_2010=None, category_return_2010=None, fund_return_2009=None, category_return_2009=None, fund_return_2008=None, category_return_2008=None, fund_return_2007=-0.02795, category_return_2007=None, fund_return_2006=0.39785, category_return_2006=None, fund_return_2005=0.25423, category_return_2005=None, fund_return_2004=-0.02663, category_return_2004=None, fund_return_2003=0.02128, category_return_2003=None, fund_return_2002=0.31262, category_return_2002=None, fund_return_2001=-0.33986, category_return_2001=None, fund_return_2000=0.01815, category_return_2000=None, fund_alpha_3years=0.1485, fund_beta_3years=None, fund_mean_annual_return_3years=0.0159, fund_r_squared_3years=None, fund_stdev_3years=0.14628, fund_sharpe_ratio_3years=None, fund_treynor_ratio_3years=0.26847, fund_alpha_5years=None, fund_beta_5years=-0.1862, fund_mean_annual_return_5years=None, fund_r_squared_5years=-0.0085, fund_stdev_5years=None, fund_sharpe_ratio_5years=0.05371, fund_treynor_ratio_5years=24.18, fund_alpha_10years=1.31, fund_beta_10years=3.65, fund_mean_annual_return_10years=52.02, fund_r_squared_10years=32.6, fund_stdev_10years=1.3, fund_sharpe_ratio_10years=34.5, fund_treynor_ratio_10years=None)]"
      ]
     },
     "execution_count": 28,
     "metadata": {},
     "output_type": "execute_result"
    }
   ],
   "source": [
    "df_ETFs.head(5)"
   ]
  },
  {
   "cell_type": "code",
   "execution_count": 29,
   "metadata": {},
   "outputs": [
    {
     "data": {
      "text/plain": [
       "3866030"
      ]
     },
     "execution_count": 29,
     "metadata": {},
     "output_type": "execute_result"
    }
   ],
   "source": [
    "df_ETF_prices.count()"
   ]
  },
  {
   "cell_type": "code",
   "execution_count": 33,
   "metadata": {},
   "outputs": [
    {
     "data": {
      "text/plain": [
       "2310"
      ]
     },
     "execution_count": 33,
     "metadata": {},
     "output_type": "execute_result"
    }
   ],
   "source": [
    "df_ETFs.count()"
   ]
  },
  {
   "cell_type": "code",
   "execution_count": 13,
   "metadata": {},
   "outputs": [],
   "source": [
    "# Create temporary views for each ETF file/datafram\n",
    "df_ETF_prices.createOrReplaceTempView('etfprices')\n",
    "df_ETFs.createOrReplaceTempView('etfs')"
   ]
  },
  {
   "cell_type": "code",
   "execution_count": 22,
   "metadata": {},
   "outputs": [
    {
     "name": "stdout",
     "output_type": "stream",
     "text": [
      "+--------------------+\n",
      "|            col_name|\n",
      "+--------------------+\n",
      "|         fund_symbol|\n",
      "|          quote_type|\n",
      "|              region|\n",
      "|     fund_short_name|\n",
      "|      fund_long_name|\n",
      "|            currency|\n",
      "|       fund_category|\n",
      "|         fund_family|\n",
      "|       exchange_code|\n",
      "|       exchange_name|\n",
      "|   exchange_timezone|\n",
      "|      avg_vol_3month|\n",
      "|       avg_vol_10day|\n",
      "|    total_net_assets|\n",
      "|day50_moving_average|\n",
      "|day200_moving_ave...|\n",
      "|week52_high_low_c...|\n",
      "|week52_high_low_c...|\n",
      "|         week52_high|\n",
      "|  week52_high_change|\n",
      "+--------------------+\n",
      "only showing top 20 rows\n",
      "\n"
     ]
    }
   ],
   "source": [
    "spark.sql('SHOW COLUMNS in etfs').show()"
   ]
  },
  {
   "cell_type": "code",
   "execution_count": 17,
   "metadata": {},
   "outputs": [
    {
     "name": "stdout",
     "output_type": "stream",
     "text": [
      "+-----------+\n",
      "|   col_name|\n",
      "+-----------+\n",
      "|fund_symbol|\n",
      "| price_date|\n",
      "|       open|\n",
      "|       high|\n",
      "|        low|\n",
      "|      close|\n",
      "|  adj_close|\n",
      "|     volume|\n",
      "+-----------+\n",
      "\n"
     ]
    }
   ],
   "source": [
    "spark.sql('SHOW COLUMNS in etfprices').show()"
   ]
  },
  {
   "cell_type": "code",
   "execution_count": 38,
   "metadata": {},
   "outputs": [
    {
     "name": "stdout",
     "output_type": "stream",
     "text": [
      "+--------------------+---------+-------+\n",
      "|            col_name|data_type|comment|\n",
      "+--------------------+---------+-------+\n",
      "|         fund_symbol|   string|   NULL|\n",
      "|          quote_type|   string|   NULL|\n",
      "|              region|   string|   NULL|\n",
      "|     fund_short_name|   string|   NULL|\n",
      "|      fund_long_name|   string|   NULL|\n",
      "|            currency|   string|   NULL|\n",
      "|       fund_category|   string|   NULL|\n",
      "|         fund_family|   string|   NULL|\n",
      "|       exchange_code|   string|   NULL|\n",
      "|       exchange_name|   string|   NULL|\n",
      "|   exchange_timezone|   string|   NULL|\n",
      "|      avg_vol_3month|   string|   NULL|\n",
      "|       avg_vol_10day|   string|   NULL|\n",
      "|    total_net_assets|   string|   NULL|\n",
      "|day50_moving_average|   string|   NULL|\n",
      "|day200_moving_ave...|   string|   NULL|\n",
      "|week52_high_low_c...|   string|   NULL|\n",
      "|week52_high_low_c...|   string|   NULL|\n",
      "|         week52_high|   string|   NULL|\n",
      "|  week52_high_change|   string|   NULL|\n",
      "+--------------------+---------+-------+\n",
      "only showing top 20 rows\n",
      "\n"
     ]
    }
   ],
   "source": [
    "spark.sql('''\n",
    "          DESCRIBE table etfs\n",
    "          '''\n",
    ").show()"
   ]
  },
  {
   "cell_type": "code",
   "execution_count": 39,
   "metadata": {},
   "outputs": [
    {
     "name": "stdout",
     "output_type": "stream",
     "text": [
      "+-----------+---------+-------+\n",
      "|   col_name|data_type|comment|\n",
      "+-----------+---------+-------+\n",
      "|fund_symbol|   string|   NULL|\n",
      "| price_date|   string|   NULL|\n",
      "|       open|   string|   NULL|\n",
      "|       high|   string|   NULL|\n",
      "|        low|   string|   NULL|\n",
      "|      close|   string|   NULL|\n",
      "|  adj_close|   string|   NULL|\n",
      "|     volume|   string|   NULL|\n",
      "+-----------+---------+-------+\n",
      "\n"
     ]
    }
   ],
   "source": [
    "spark.sql('''\n",
    "          DESCRIBE table etfprices\n",
    "          '''\n",
    ").show()"
   ]
  },
  {
   "cell_type": "code",
   "execution_count": null,
   "metadata": {},
   "outputs": [],
   "source": []
  }
 ],
 "metadata": {
  "kernelspec": {
   "display_name": "Python 3 (ipykernel)",
   "language": "python",
   "name": "python3"
  },
  "language_info": {
   "codemirror_mode": {
    "name": "ipython",
    "version": 3
   },
   "file_extension": ".py",
   "mimetype": "text/x-python",
   "name": "python",
   "nbconvert_exporter": "python",
   "pygments_lexer": "ipython3",
   "version": "3.10.14"
  }
 },
 "nbformat": 4,
 "nbformat_minor": 4
}
